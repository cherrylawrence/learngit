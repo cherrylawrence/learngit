{
 "cells": [
  {
   "cell_type": "code",
   "execution_count": 2,
   "metadata": {},
   "outputs": [
    {
     "ename": "ImportError",
     "evalue": "attempted relative import with no known parent package",
     "output_type": "error",
     "traceback": [
      "\u001b[1;31m---------------------------------------------------------------------------\u001b[0m",
      "\u001b[1;31mImportError\u001b[0m                               Traceback (most recent call last)",
      "\u001b[1;32m<ipython-input-2-7890e339a588>\u001b[0m in \u001b[0;36m<module>\u001b[1;34m()\u001b[0m\n\u001b[0;32m      1\u001b[0m \u001b[1;31m# %load two_stream.py\u001b[0m\u001b[1;33m\u001b[0m\u001b[1;33m\u001b[0m\u001b[0m\n\u001b[1;32m----> 2\u001b[1;33m \u001b[1;32mfrom\u001b[0m \u001b[1;33m.\u001b[0m\u001b[0mfinetuned_resnet\u001b[0m \u001b[1;32mimport\u001b[0m \u001b[0mfinetuned_resnet\u001b[0m\u001b[1;33m\u001b[0m\u001b[0m\n\u001b[0m\u001b[0;32m      3\u001b[0m \u001b[1;32mfrom\u001b[0m \u001b[1;33m.\u001b[0m\u001b[0mtemporal_CNN\u001b[0m \u001b[1;32mimport\u001b[0m \u001b[0mtemporal_CNN\u001b[0m\u001b[1;33m\u001b[0m\u001b[0m\n\u001b[0;32m      4\u001b[0m \u001b[1;32mfrom\u001b[0m \u001b[0mkeras\u001b[0m\u001b[1;33m.\u001b[0m\u001b[0mlayers\u001b[0m\u001b[1;33m.\u001b[0m\u001b[0mmerge\u001b[0m \u001b[1;32mimport\u001b[0m \u001b[0mAverage\u001b[0m\u001b[1;33m,\u001b[0m \u001b[0mMaximum\u001b[0m\u001b[1;33m,\u001b[0m \u001b[0mAdd\u001b[0m\u001b[1;33m\u001b[0m\u001b[0m\n\u001b[0;32m      5\u001b[0m \u001b[1;32mfrom\u001b[0m \u001b[0mkeras\u001b[0m\u001b[1;33m.\u001b[0m\u001b[0mmodels\u001b[0m \u001b[1;32mimport\u001b[0m \u001b[0mModel\u001b[0m\u001b[1;33m\u001b[0m\u001b[0m\n",
      "\u001b[1;31mImportError\u001b[0m: attempted relative import with no known parent package"
     ]
    }
   ],
   "source": [
    "# %load two_stream.py\n",
    "from .finetuned_resnet import finetuned_resnet\n",
    "from .temporal_CNN import temporal_CNN\n",
    "from keras.layers.merge import Average, Maximum, Add\n",
    "from keras.models import Model\n",
    "\n",
    "\n",
    "def two_stream_model(spatial_weights_dir, temporal_weights_dir):\n",
    "    '''\n",
    "    The simple two-stream model, it simply takes an average on the outputs of two streams and regards it as\n",
    "    the final output\n",
    "    :return: The two stream model that fuses the output of spatial and temporal streams\n",
    "    '''\n",
    "    # the models of different stream\n",
    "    spatial_stream = finetuned_resnet(include_top=True, weights_dir=spatial_weights_dir)\n",
    "    # temporal_stream = finetuned_resnet(include_top=True, weights_dir=temporal_weights_dir)\n",
    "    temporal_stream = temporal_CNN((216, 216, 18), 101, temporal_weights_dir, include_top=True)\n",
    "\n",
    "    # freeze all weights, the two models have been trained separately\n",
    "    for layer in spatial_stream.layers:\n",
    "        layer.trainable = False\n",
    "        layer.name = 'spatial_' + layer.name\n",
    "    for layer in temporal_stream.layers:\n",
    "        layer.trainable = False\n",
    "        layer.name = 'temporal_' + layer.name\n",
    "\n",
    "    # extract their output\n",
    "    spatial_output = spatial_stream.output\n",
    "    temporal_output = temporal_stream.output\n",
    "\n",
    "    fused_output = Average(name='fusion_layer')([spatial_output, temporal_output])\n",
    "\n",
    "    model = Model(inputs=[spatial_stream.input, temporal_stream.input], outputs=fused_output, name='two_stream')\n",
    "\n",
    "    return model\n",
    "\n",
    "\n",
    "if __name__ == '__main__':\n",
    "    model = two_stream_model()\n",
    "    print(model.summary())\n"
   ]
  },
  {
   "cell_type": "code",
   "execution_count": null,
   "metadata": {},
   "outputs": [],
   "source": []
  }
 ],
 "metadata": {
  "hide_input": false,
  "kernelspec": {
   "display_name": "Python 3",
   "language": "python",
   "name": "python3"
  },
  "language_info": {
   "codemirror_mode": {
    "name": "ipython",
    "version": 3
   },
   "file_extension": ".py",
   "mimetype": "text/x-python",
   "name": "python",
   "nbconvert_exporter": "python",
   "pygments_lexer": "ipython3",
   "version": "3.5.4"
  },
  "latex_envs": {
   "LaTeX_envs_menu_present": true,
   "autoclose": false,
   "autocomplete": true,
   "bibliofile": "biblio.bib",
   "cite_by": "apalike",
   "current_citInitial": 1,
   "eqLabelWithNumbers": true,
   "eqNumInitial": 1,
   "hotkeys": {
    "equation": "Ctrl-E",
    "itemize": "Ctrl-I"
   },
   "labels_anchors": false,
   "latex_user_defs": false,
   "report_style_numbering": false,
   "user_envs_cfg": false
  }
 },
 "nbformat": 4,
 "nbformat_minor": 2
}
